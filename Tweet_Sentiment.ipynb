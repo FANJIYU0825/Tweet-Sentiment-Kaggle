{
  "nbformat": 4,
  "nbformat_minor": 0,
  "metadata": {
    "colab": {
      "name": "Tweet Sentiment.ipynb",
      "provenance": [],
      "collapsed_sections": [
        "mMPSaX5aOG-F"
      ],
      "authorship_tag": "ABX9TyNDXRSxaDwg4EgJ+/0B16Sz",
      "include_colab_link": true
    },
    "kernelspec": {
      "name": "python3",
      "display_name": "Python 3"
    },
    "accelerator": "TPU"
  },
  "cells": [
    {
      "cell_type": "markdown",
      "metadata": {
        "id": "view-in-github",
        "colab_type": "text"
      },
      "source": [
        "<a href=\"https://colab.research.google.com/github/FANJIYU0825/Tweet-Sentiment-Kaggle/blob/master/Tweet_Sentiment.ipynb\" target=\"_parent\"><img src=\"https://colab.research.google.com/assets/colab-badge.svg\" alt=\"Open In Colab\"/></a>"
      ]
    },
    {
      "cell_type": "markdown",
      "metadata": {
        "id": "PUAO-_VH-aFd",
        "colab_type": "text"
      },
      "source": [
        "#sample"
      ]
    },
    {
      "cell_type": "code",
      "metadata": {
        "_cell_guid": "3a0cf604-d311-4bf7-bdb1-3e19de0cf1ff",
        "_execution_state": "busy",
        "_uuid": "8b8cda16cd629eae909fd1108ef12a4b55b416a3",
        "id": "KZQSn5G8Hl0L",
        "colab_type": "code",
        "colab": {}
      },
      "source": [
        "#sklearn\n",
        "from sklearn import preprocessing \n",
        "from sklearn.model_selection import GridSearchCV \n",
        "from sklearn.ensemble import RandomForestClassifier \n",
        "from sklearn.ensemble import RandomForestRegressor\n",
        "from sklearn import model_selection\n",
        "from sklearn.feature_extraction.text import CountVectorizer,TfidfVectorizer\n",
        "from datetime import datetime\n",
        "import warnings\n",
        "\n",
        "# text processing libraries\n",
        "import re\n",
        "import string\n",
        "import nltk\n",
        "from nltk.corpus import stopwords\n",
        "\n",
        "#cloums\n",
        "import pandas as pd\n",
        "import numpy as np\n",
        "# Visualisation libraries\n",
        "import matplotlib.pyplot as plt\n",
        "import seaborn as sns\n",
        "import plotly.graph_objs as go\n",
        "import chart_studio.plotly as py\n",
        "import plotly.figure_factory as ff\n",
        "from plotly.offline import iplot\n",
        "import cufflinks\n",
        "import plotly.express as px\n",
        "cufflinks.go_offline()\n",
        "cufflinks.set_config_file(world_readable=True, theme='pearl')\n",
        "%matplotlib inline\n",
        "pd.options.mode.chained_assignment = None\n"
      ],
      "execution_count": 0,
      "outputs": []
    },
    {
      "cell_type": "code",
      "metadata": {
        "colab_type": "code",
        "id": "NODjaitTYLqG",
        "colab": {
          "base_uri": "https://localhost:8080/",
          "height": 972
        },
        "outputId": "b987af29-025b-4f52-ea3a-dbeb31c06cb0"
      },
      "source": [
        "!pip install transformers\n",
        "!pip install tensorflow==2.1.0\n",
        "import torch\n",
        "from transformers import AutoModel, AutoTokenizer, BertTokenizer\n",
        "torch.set_grad_enabled(False)\n",
        "\n"
      ],
      "execution_count": 55,
      "outputs": [
        {
          "output_type": "stream",
          "text": [
            "Requirement already satisfied: transformers in /usr/local/lib/python3.6/dist-packages (2.10.0)\n",
            "Requirement already satisfied: regex!=2019.12.17 in /usr/local/lib/python3.6/dist-packages (from transformers) (2019.12.20)\n",
            "Requirement already satisfied: tokenizers==0.7.0 in /usr/local/lib/python3.6/dist-packages (from transformers) (0.7.0)\n",
            "Requirement already satisfied: tqdm>=4.27 in /usr/local/lib/python3.6/dist-packages (from transformers) (4.41.1)\n",
            "Requirement already satisfied: filelock in /usr/local/lib/python3.6/dist-packages (from transformers) (3.0.12)\n",
            "Requirement already satisfied: numpy in /usr/local/lib/python3.6/dist-packages (from transformers) (1.18.4)\n",
            "Requirement already satisfied: sacremoses in /usr/local/lib/python3.6/dist-packages (from transformers) (0.0.43)\n",
            "Requirement already satisfied: requests in /usr/local/lib/python3.6/dist-packages (from transformers) (2.23.0)\n",
            "Requirement already satisfied: sentencepiece in /usr/local/lib/python3.6/dist-packages (from transformers) (0.1.91)\n",
            "Requirement already satisfied: dataclasses; python_version < \"3.7\" in /usr/local/lib/python3.6/dist-packages (from transformers) (0.7)\n",
            "Requirement already satisfied: click in /usr/local/lib/python3.6/dist-packages (from sacremoses->transformers) (7.1.2)\n",
            "Requirement already satisfied: joblib in /usr/local/lib/python3.6/dist-packages (from sacremoses->transformers) (0.15.1)\n",
            "Requirement already satisfied: six in /usr/local/lib/python3.6/dist-packages (from sacremoses->transformers) (1.12.0)\n",
            "Requirement already satisfied: idna<3,>=2.5 in /usr/local/lib/python3.6/dist-packages (from requests->transformers) (2.9)\n",
            "Requirement already satisfied: urllib3!=1.25.0,!=1.25.1,<1.26,>=1.21.1 in /usr/local/lib/python3.6/dist-packages (from requests->transformers) (1.24.3)\n",
            "Requirement already satisfied: chardet<4,>=3.0.2 in /usr/local/lib/python3.6/dist-packages (from requests->transformers) (3.0.4)\n",
            "Requirement already satisfied: certifi>=2017.4.17 in /usr/local/lib/python3.6/dist-packages (from requests->transformers) (2020.4.5.1)\n",
            "Requirement already satisfied: tensorflow==2.1.0 in /usr/local/lib/python3.6/dist-packages (2.1.0)\n",
            "Requirement already satisfied: absl-py>=0.7.0 in /usr/local/lib/python3.6/dist-packages (from tensorflow==2.1.0) (0.9.0)\n",
            "Requirement already satisfied: wheel>=0.26; python_version >= \"3\" in /usr/local/lib/python3.6/dist-packages (from tensorflow==2.1.0) (0.34.2)\n",
            "Requirement already satisfied: tensorboard<2.2.0,>=2.1.0 in /usr/local/lib/python3.6/dist-packages (from tensorflow==2.1.0) (2.1.1)\n",
            "Requirement already satisfied: termcolor>=1.1.0 in /usr/local/lib/python3.6/dist-packages (from tensorflow==2.1.0) (1.1.0)\n",
            "Requirement already satisfied: google-pasta>=0.1.6 in /usr/local/lib/python3.6/dist-packages (from tensorflow==2.1.0) (0.2.0)\n",
            "Requirement already satisfied: astor>=0.6.0 in /usr/local/lib/python3.6/dist-packages (from tensorflow==2.1.0) (0.8.1)\n",
            "Requirement already satisfied: keras-preprocessing>=1.1.0 in /usr/local/lib/python3.6/dist-packages (from tensorflow==2.1.0) (1.1.2)\n",
            "Requirement already satisfied: six>=1.12.0 in /usr/local/lib/python3.6/dist-packages (from tensorflow==2.1.0) (1.12.0)\n",
            "Requirement already satisfied: grpcio>=1.8.6 in /usr/local/lib/python3.6/dist-packages (from tensorflow==2.1.0) (1.29.0)\n",
            "Requirement already satisfied: wrapt>=1.11.1 in /usr/local/lib/python3.6/dist-packages (from tensorflow==2.1.0) (1.12.1)\n",
            "Requirement already satisfied: scipy==1.4.1; python_version >= \"3\" in /usr/local/lib/python3.6/dist-packages (from tensorflow==2.1.0) (1.4.1)\n",
            "Requirement already satisfied: tensorflow-estimator<2.2.0,>=2.1.0rc0 in /usr/local/lib/python3.6/dist-packages (from tensorflow==2.1.0) (2.1.0)\n",
            "Requirement already satisfied: opt-einsum>=2.3.2 in /usr/local/lib/python3.6/dist-packages (from tensorflow==2.1.0) (3.2.1)\n",
            "Requirement already satisfied: gast==0.2.2 in /usr/local/lib/python3.6/dist-packages (from tensorflow==2.1.0) (0.2.2)\n",
            "Requirement already satisfied: keras-applications>=1.0.8 in /usr/local/lib/python3.6/dist-packages (from tensorflow==2.1.0) (1.0.8)\n",
            "Requirement already satisfied: protobuf>=3.8.0 in /usr/local/lib/python3.6/dist-packages (from tensorflow==2.1.0) (3.10.0)\n",
            "Requirement already satisfied: numpy<2.0,>=1.16.0 in /usr/local/lib/python3.6/dist-packages (from tensorflow==2.1.0) (1.18.4)\n",
            "Requirement already satisfied: werkzeug>=0.11.15 in /usr/local/lib/python3.6/dist-packages (from tensorboard<2.2.0,>=2.1.0->tensorflow==2.1.0) (1.0.1)\n",
            "Requirement already satisfied: google-auth<2,>=1.6.3 in /usr/local/lib/python3.6/dist-packages (from tensorboard<2.2.0,>=2.1.0->tensorflow==2.1.0) (1.7.2)\n",
            "Requirement already satisfied: markdown>=2.6.8 in /usr/local/lib/python3.6/dist-packages (from tensorboard<2.2.0,>=2.1.0->tensorflow==2.1.0) (3.2.2)\n",
            "Requirement already satisfied: google-auth-oauthlib<0.5,>=0.4.1 in /usr/local/lib/python3.6/dist-packages (from tensorboard<2.2.0,>=2.1.0->tensorflow==2.1.0) (0.4.1)\n",
            "Requirement already satisfied: setuptools>=41.0.0 in /usr/local/lib/python3.6/dist-packages (from tensorboard<2.2.0,>=2.1.0->tensorflow==2.1.0) (46.3.0)\n",
            "Requirement already satisfied: requests<3,>=2.21.0 in /usr/local/lib/python3.6/dist-packages (from tensorboard<2.2.0,>=2.1.0->tensorflow==2.1.0) (2.23.0)\n",
            "Requirement already satisfied: h5py in /usr/local/lib/python3.6/dist-packages (from keras-applications>=1.0.8->tensorflow==2.1.0) (2.10.0)\n",
            "Requirement already satisfied: rsa<4.1,>=3.1.4 in /usr/local/lib/python3.6/dist-packages (from google-auth<2,>=1.6.3->tensorboard<2.2.0,>=2.1.0->tensorflow==2.1.0) (4.0)\n",
            "Requirement already satisfied: pyasn1-modules>=0.2.1 in /usr/local/lib/python3.6/dist-packages (from google-auth<2,>=1.6.3->tensorboard<2.2.0,>=2.1.0->tensorflow==2.1.0) (0.2.8)\n",
            "Requirement already satisfied: cachetools<3.2,>=2.0.0 in /usr/local/lib/python3.6/dist-packages (from google-auth<2,>=1.6.3->tensorboard<2.2.0,>=2.1.0->tensorflow==2.1.0) (3.1.1)\n",
            "Requirement already satisfied: importlib-metadata; python_version < \"3.8\" in /usr/local/lib/python3.6/dist-packages (from markdown>=2.6.8->tensorboard<2.2.0,>=2.1.0->tensorflow==2.1.0) (1.6.0)\n",
            "Requirement already satisfied: requests-oauthlib>=0.7.0 in /usr/local/lib/python3.6/dist-packages (from google-auth-oauthlib<0.5,>=0.4.1->tensorboard<2.2.0,>=2.1.0->tensorflow==2.1.0) (1.3.0)\n",
            "Requirement already satisfied: certifi>=2017.4.17 in /usr/local/lib/python3.6/dist-packages (from requests<3,>=2.21.0->tensorboard<2.2.0,>=2.1.0->tensorflow==2.1.0) (2020.4.5.1)\n",
            "Requirement already satisfied: chardet<4,>=3.0.2 in /usr/local/lib/python3.6/dist-packages (from requests<3,>=2.21.0->tensorboard<2.2.0,>=2.1.0->tensorflow==2.1.0) (3.0.4)\n",
            "Requirement already satisfied: urllib3!=1.25.0,!=1.25.1,<1.26,>=1.21.1 in /usr/local/lib/python3.6/dist-packages (from requests<3,>=2.21.0->tensorboard<2.2.0,>=2.1.0->tensorflow==2.1.0) (1.24.3)\n",
            "Requirement already satisfied: idna<3,>=2.5 in /usr/local/lib/python3.6/dist-packages (from requests<3,>=2.21.0->tensorboard<2.2.0,>=2.1.0->tensorflow==2.1.0) (2.9)\n",
            "Requirement already satisfied: pyasn1>=0.1.3 in /usr/local/lib/python3.6/dist-packages (from rsa<4.1,>=3.1.4->google-auth<2,>=1.6.3->tensorboard<2.2.0,>=2.1.0->tensorflow==2.1.0) (0.4.8)\n",
            "Requirement already satisfied: zipp>=0.5 in /usr/local/lib/python3.6/dist-packages (from importlib-metadata; python_version < \"3.8\"->markdown>=2.6.8->tensorboard<2.2.0,>=2.1.0->tensorflow==2.1.0) (3.1.0)\n",
            "Requirement already satisfied: oauthlib>=3.0.0 in /usr/local/lib/python3.6/dist-packages (from requests-oauthlib>=0.7.0->google-auth-oauthlib<0.5,>=0.4.1->tensorboard<2.2.0,>=2.1.0->tensorflow==2.1.0) (3.1.0)\n"
          ],
          "name": "stdout"
        },
        {
          "output_type": "execute_result",
          "data": {
            "text/plain": [
              "<torch.autograd.grad_mode.set_grad_enabled at 0x7f5c35b061d0>"
            ]
          },
          "metadata": {
            "tags": []
          },
          "execution_count": 55
        }
      ]
    },
    {
      "cell_type": "code",
      "metadata": {
        "id": "5yDCMjtUH3CF",
        "colab_type": "code",
        "colab": {
          "base_uri": "https://localhost:8080/",
          "height": 34
        },
        "outputId": "121dfdf2-1bcd-47a2-cd3d-14cd52c794dd"
      },
      "source": [
        "from google.colab import drive\n",
        "drive.mount('/content/drive')"
      ],
      "execution_count": 56,
      "outputs": [
        {
          "output_type": "stream",
          "text": [
            "Drive already mounted at /content/drive; to attempt to forcibly remount, call drive.mount(\"/content/drive\", force_remount=True).\n"
          ],
          "name": "stdout"
        }
      ]
    },
    {
      "cell_type": "code",
      "metadata": {
        "_cell_guid": "e53ae0c8-ac83-4705-b959-c799836153c9",
        "_execution_state": "busy",
        "_uuid": "541ad1c5e02e65ce56db289646bd5c744d2bfb5e",
        "id": "StzIDbibHl0Y",
        "colab_type": "code",
        "colab": {}
      },
      "source": [
        "train = pd.read_csv('/content/drive/My Drive/PAPER/Kaggle data /Tweet Sentiment/train.csv')\n",
        "test = pd.read_csv('/content/drive/My Drive/PAPER/Kaggle data /Tweet Sentiment/test.csv')"
      ],
      "execution_count": 0,
      "outputs": []
    },
    {
      "cell_type": "code",
      "metadata": {
        "id": "foQO3ZyTNFCk",
        "colab_type": "code",
        "colab": {}
      },
      "source": [
        "train.info()"
      ],
      "execution_count": 0,
      "outputs": []
    },
    {
      "cell_type": "code",
      "metadata": {
        "id": "ztWuj6YgNLeR",
        "colab_type": "code",
        "colab": {}
      },
      "source": [
        "test.info()"
      ],
      "execution_count": 0,
      "outputs": []
    },
    {
      "cell_type": "code",
      "metadata": {
        "id": "qgzgq2k7PTQX",
        "colab_type": "code",
        "colab": {}
      },
      "source": [
        "train.sample(5)"
      ],
      "execution_count": 0,
      "outputs": []
    },
    {
      "cell_type": "markdown",
      "metadata": {
        "id": "qF73fyb8ai4p",
        "colab_type": "text"
      },
      "source": [
        "The columns denote the following:\n",
        "\n",
        "* The `textID` of a tweet\n",
        "* The `text` of a tweet\n",
        "* The `selected text` which determines the polarity of the tweet\n",
        "* `sentiment` of the tweet\n",
        "\n",
        "The test dataset doesn't have the selected text column which needs to be identified."
      ]
    },
    {
      "cell_type": "code",
      "metadata": {
        "id": "TgSHbO58O-_7",
        "colab_type": "code",
        "colab": {
          "base_uri": "https://localhost:8080/",
          "height": 238
        },
        "outputId": "a79ebb19-9c85-403b-a291-cd7fa430b11a"
      },
      "source": [
        "print('Training data shape: ', train.shape)\n",
        "print('Testing data shape: ', test.shape)\n",
        "\n",
        "\n",
        "# First few rows of the training dataset\n",
        "train.head()\n",
        "\n",
        "# First few rows of the testing dataset\n",
        "test.head()"
      ],
      "execution_count": 58,
      "outputs": [
        {
          "output_type": "stream",
          "text": [
            "Training data shape:  (27481, 4)\n",
            "Testing data shape:  (3534, 3)\n"
          ],
          "name": "stdout"
        },
        {
          "output_type": "execute_result",
          "data": {
            "text/html": [
              "<div>\n",
              "<style scoped>\n",
              "    .dataframe tbody tr th:only-of-type {\n",
              "        vertical-align: middle;\n",
              "    }\n",
              "\n",
              "    .dataframe tbody tr th {\n",
              "        vertical-align: top;\n",
              "    }\n",
              "\n",
              "    .dataframe thead th {\n",
              "        text-align: right;\n",
              "    }\n",
              "</style>\n",
              "<table border=\"1\" class=\"dataframe\">\n",
              "  <thead>\n",
              "    <tr style=\"text-align: right;\">\n",
              "      <th></th>\n",
              "      <th>textID</th>\n",
              "      <th>text</th>\n",
              "      <th>sentiment</th>\n",
              "    </tr>\n",
              "  </thead>\n",
              "  <tbody>\n",
              "    <tr>\n",
              "      <th>0</th>\n",
              "      <td>f87dea47db</td>\n",
              "      <td>Last session of the day  http://twitpic.com/67ezh</td>\n",
              "      <td>neutral</td>\n",
              "    </tr>\n",
              "    <tr>\n",
              "      <th>1</th>\n",
              "      <td>96d74cb729</td>\n",
              "      <td>Shanghai is also really exciting (precisely -...</td>\n",
              "      <td>positive</td>\n",
              "    </tr>\n",
              "    <tr>\n",
              "      <th>2</th>\n",
              "      <td>eee518ae67</td>\n",
              "      <td>Recession hit Veronique Branquinho, she has to...</td>\n",
              "      <td>negative</td>\n",
              "    </tr>\n",
              "    <tr>\n",
              "      <th>3</th>\n",
              "      <td>01082688c6</td>\n",
              "      <td>happy bday!</td>\n",
              "      <td>positive</td>\n",
              "    </tr>\n",
              "    <tr>\n",
              "      <th>4</th>\n",
              "      <td>33987a8ee5</td>\n",
              "      <td>http://twitpic.com/4w75p - I like it!!</td>\n",
              "      <td>positive</td>\n",
              "    </tr>\n",
              "  </tbody>\n",
              "</table>\n",
              "</div>"
            ],
            "text/plain": [
              "       textID                                               text sentiment\n",
              "0  f87dea47db  Last session of the day  http://twitpic.com/67ezh   neutral\n",
              "1  96d74cb729   Shanghai is also really exciting (precisely -...  positive\n",
              "2  eee518ae67  Recession hit Veronique Branquinho, she has to...  negative\n",
              "3  01082688c6                                        happy bday!  positive\n",
              "4  33987a8ee5             http://twitpic.com/4w75p - I like it!!  positive"
            ]
          },
          "metadata": {
            "tags": []
          },
          "execution_count": 58
        }
      ]
    },
    {
      "cell_type": "markdown",
      "metadata": {
        "id": "6COy31hfeogy",
        "colab_type": "text"
      },
      "source": [
        "##Missing values "
      ]
    },
    {
      "cell_type": "code",
      "metadata": {
        "id": "w_baAsKVb0n4",
        "colab_type": "code",
        "outputId": "91009a9e-8cae-4b4e-a662-2220bfa7db3a",
        "colab": {
          "base_uri": "https://localhost:8080/",
          "height": 102
        }
      },
      "source": [
        "#Missing values in training set\n",
        "train.isnull().sum()"
      ],
      "execution_count": 59,
      "outputs": [
        {
          "output_type": "execute_result",
          "data": {
            "text/plain": [
              "textID           0\n",
              "text             1\n",
              "selected_text    1\n",
              "sentiment        0\n",
              "dtype: int64"
            ]
          },
          "metadata": {
            "tags": []
          },
          "execution_count": 59
        }
      ]
    },
    {
      "cell_type": "code",
      "metadata": {
        "id": "k623CVIhbhoD",
        "colab_type": "code",
        "outputId": "533567fc-be1a-4ed4-d322-c3a1cff8aca0",
        "colab": {
          "base_uri": "https://localhost:8080/",
          "height": 85
        }
      },
      "source": [
        "#Missing values in test set\n",
        "test.isnull().sum()"
      ],
      "execution_count": 60,
      "outputs": [
        {
          "output_type": "execute_result",
          "data": {
            "text/plain": [
              "textID       0\n",
              "text         0\n",
              "sentiment    0\n",
              "dtype: int64"
            ]
          },
          "metadata": {
            "tags": []
          },
          "execution_count": 60
        }
      ]
    },
    {
      "cell_type": "markdown",
      "metadata": {
        "id": "eOYTZv7qjhWS",
        "colab_type": "text"
      },
      "source": [
        "The `text` and `selected_text` column have one row missing each. Let's get rid of the missing rows."
      ]
    },
    {
      "cell_type": "code",
      "metadata": {
        "id": "Nd9uUGDYjkuB",
        "colab_type": "code",
        "colab": {}
      },
      "source": [
        "# Dropping missing values\n",
        "train.dropna(axis = 0, how ='any',inplace=True) ;"
      ],
      "execution_count": 0,
      "outputs": []
    },
    {
      "cell_type": "markdown",
      "metadata": {
        "id": "kk2vyJ00j0od",
        "colab_type": "text"
      },
      "source": [
        "##Analysis of the Sentiment Column"
      ]
    },
    {
      "cell_type": "markdown",
      "metadata": {
        "id": "vC-neZVEkDb1",
        "colab_type": "text"
      },
      "source": [
        "**Distribution of the Sentiment Column**"
      ]
    },
    {
      "cell_type": "code",
      "metadata": {
        "id": "wkcFNoQpkKv8",
        "colab_type": "code",
        "outputId": "3a79ae52-f629-47ad-f17f-b7306c75a31e",
        "colab": {
          "base_uri": "https://localhost:8080/",
          "height": 85
        }
      },
      "source": [
        "train['sentiment'].value_counts()"
      ],
      "execution_count": 62,
      "outputs": [
        {
          "output_type": "execute_result",
          "data": {
            "text/plain": [
              "neutral     11117\n",
              "positive     8582\n",
              "negative     7781\n",
              "Name: sentiment, dtype: int64"
            ]
          },
          "metadata": {
            "tags": []
          },
          "execution_count": 62
        }
      ]
    },
    {
      "cell_type": "code",
      "metadata": {
        "id": "mSCSTFZQk3bC",
        "colab_type": "code",
        "outputId": "e9071929-9d79-4489-9743-f65f074faafe",
        "colab": {
          "base_uri": "https://localhost:8080/",
          "height": 85
        }
      },
      "source": [
        "sentiment_nol =train['sentiment'].value_counts(normalize=True)\n",
        "sentiment_nol "
      ],
      "execution_count": 63,
      "outputs": [
        {
          "output_type": "execute_result",
          "data": {
            "text/plain": [
              "neutral     0.404549\n",
              "positive    0.312300\n",
              "negative    0.283151\n",
              "Name: sentiment, dtype: float64"
            ]
          },
          "metadata": {
            "tags": []
          },
          "execution_count": 63
        }
      ]
    },
    {
      "cell_type": "code",
      "metadata": {
        "id": "mb3POAdGpO5G",
        "colab_type": "code",
        "outputId": "bd7eab5d-f361-4ea8-8e68-e21cd94873ef",
        "colab": {
          "base_uri": "https://localhost:8080/",
          "height": 542
        }
      },
      "source": [
        "import plotly.graph_objects as go\n",
        "fig = go.Figure(\n",
        "    data=[go.Bar(y=[sentiment_nol ])],\n",
        "    layout_title_text=\"A Figure Displaying Itself\"\n",
        ")\n",
        "fig.show()"
      ],
      "execution_count": 66,
      "outputs": [
        {
          "output_type": "display_data",
          "data": {
            "text/html": [
              "<div>\n",
              "        \n",
              "        \n",
              "            <div id=\"60a2bbc4-9c50-41f7-b8c1-e4d3d4a53395\" class=\"plotly-graph-div\" style=\"height:525px; width:100%;\"></div>\n",
              "            <script type=\"text/javascript\">\n",
              "                require([\"plotly\"], function(Plotly) {\n",
              "                    window.PLOTLYENV=window.PLOTLYENV || {};\n",
              "                    \n",
              "                if (document.getElementById(\"60a2bbc4-9c50-41f7-b8c1-e4d3d4a53395\")) {\n",
              "                    Plotly.newPlot(\n",
              "                        '60a2bbc4-9c50-41f7-b8c1-e4d3d4a53395',\n",
              "                        [{\"type\": \"bar\", \"y\": [[0.40454876273653567, 0.3122998544395924, 0.2831513828238719]]}],\n",
              "                        {\"template\": {\"data\": {\"bar\": [{\"error_x\": {\"color\": \"#2a3f5f\"}, \"error_y\": {\"color\": \"#2a3f5f\"}, \"marker\": {\"line\": {\"color\": \"#E5ECF6\", \"width\": 0.5}}, \"type\": \"bar\"}], \"barpolar\": [{\"marker\": {\"line\": {\"color\": \"#E5ECF6\", \"width\": 0.5}}, \"type\": \"barpolar\"}], \"carpet\": [{\"aaxis\": {\"endlinecolor\": \"#2a3f5f\", \"gridcolor\": \"white\", \"linecolor\": \"white\", \"minorgridcolor\": \"white\", \"startlinecolor\": \"#2a3f5f\"}, \"baxis\": {\"endlinecolor\": \"#2a3f5f\", \"gridcolor\": \"white\", \"linecolor\": \"white\", \"minorgridcolor\": \"white\", \"startlinecolor\": \"#2a3f5f\"}, \"type\": \"carpet\"}], \"choropleth\": [{\"colorbar\": {\"outlinewidth\": 0, \"ticks\": \"\"}, \"type\": \"choropleth\"}], \"contour\": [{\"colorbar\": {\"outlinewidth\": 0, \"ticks\": \"\"}, \"colorscale\": [[0.0, \"#0d0887\"], [0.1111111111111111, \"#46039f\"], [0.2222222222222222, \"#7201a8\"], [0.3333333333333333, \"#9c179e\"], [0.4444444444444444, \"#bd3786\"], [0.5555555555555556, \"#d8576b\"], [0.6666666666666666, \"#ed7953\"], [0.7777777777777778, \"#fb9f3a\"], [0.8888888888888888, \"#fdca26\"], [1.0, \"#f0f921\"]], \"type\": \"contour\"}], \"contourcarpet\": [{\"colorbar\": {\"outlinewidth\": 0, \"ticks\": \"\"}, \"type\": \"contourcarpet\"}], \"heatmap\": [{\"colorbar\": {\"outlinewidth\": 0, \"ticks\": \"\"}, \"colorscale\": [[0.0, \"#0d0887\"], [0.1111111111111111, \"#46039f\"], [0.2222222222222222, \"#7201a8\"], [0.3333333333333333, \"#9c179e\"], [0.4444444444444444, \"#bd3786\"], [0.5555555555555556, \"#d8576b\"], [0.6666666666666666, \"#ed7953\"], [0.7777777777777778, \"#fb9f3a\"], [0.8888888888888888, \"#fdca26\"], [1.0, \"#f0f921\"]], \"type\": \"heatmap\"}], \"heatmapgl\": [{\"colorbar\": {\"outlinewidth\": 0, \"ticks\": \"\"}, \"colorscale\": [[0.0, \"#0d0887\"], [0.1111111111111111, \"#46039f\"], [0.2222222222222222, \"#7201a8\"], [0.3333333333333333, \"#9c179e\"], [0.4444444444444444, \"#bd3786\"], [0.5555555555555556, \"#d8576b\"], [0.6666666666666666, \"#ed7953\"], [0.7777777777777778, \"#fb9f3a\"], [0.8888888888888888, \"#fdca26\"], [1.0, \"#f0f921\"]], \"type\": \"heatmapgl\"}], \"histogram\": [{\"marker\": {\"colorbar\": {\"outlinewidth\": 0, \"ticks\": \"\"}}, \"type\": \"histogram\"}], \"histogram2d\": [{\"colorbar\": {\"outlinewidth\": 0, \"ticks\": \"\"}, \"colorscale\": [[0.0, \"#0d0887\"], [0.1111111111111111, \"#46039f\"], [0.2222222222222222, \"#7201a8\"], [0.3333333333333333, \"#9c179e\"], [0.4444444444444444, \"#bd3786\"], [0.5555555555555556, \"#d8576b\"], [0.6666666666666666, \"#ed7953\"], [0.7777777777777778, \"#fb9f3a\"], [0.8888888888888888, \"#fdca26\"], [1.0, \"#f0f921\"]], \"type\": \"histogram2d\"}], \"histogram2dcontour\": [{\"colorbar\": {\"outlinewidth\": 0, \"ticks\": \"\"}, \"colorscale\": [[0.0, \"#0d0887\"], [0.1111111111111111, \"#46039f\"], [0.2222222222222222, \"#7201a8\"], [0.3333333333333333, \"#9c179e\"], [0.4444444444444444, \"#bd3786\"], [0.5555555555555556, \"#d8576b\"], [0.6666666666666666, \"#ed7953\"], [0.7777777777777778, \"#fb9f3a\"], [0.8888888888888888, \"#fdca26\"], [1.0, \"#f0f921\"]], \"type\": \"histogram2dcontour\"}], \"mesh3d\": [{\"colorbar\": {\"outlinewidth\": 0, \"ticks\": \"\"}, \"type\": \"mesh3d\"}], \"parcoords\": [{\"line\": {\"colorbar\": {\"outlinewidth\": 0, \"ticks\": \"\"}}, \"type\": \"parcoords\"}], \"pie\": [{\"automargin\": true, \"type\": \"pie\"}], \"scatter\": [{\"marker\": {\"colorbar\": {\"outlinewidth\": 0, \"ticks\": \"\"}}, \"type\": \"scatter\"}], \"scatter3d\": [{\"line\": {\"colorbar\": {\"outlinewidth\": 0, \"ticks\": \"\"}}, \"marker\": {\"colorbar\": {\"outlinewidth\": 0, \"ticks\": \"\"}}, \"type\": \"scatter3d\"}], \"scattercarpet\": [{\"marker\": {\"colorbar\": {\"outlinewidth\": 0, \"ticks\": \"\"}}, \"type\": \"scattercarpet\"}], \"scattergeo\": [{\"marker\": {\"colorbar\": {\"outlinewidth\": 0, \"ticks\": \"\"}}, \"type\": \"scattergeo\"}], \"scattergl\": [{\"marker\": {\"colorbar\": {\"outlinewidth\": 0, \"ticks\": \"\"}}, \"type\": \"scattergl\"}], \"scattermapbox\": [{\"marker\": {\"colorbar\": {\"outlinewidth\": 0, \"ticks\": \"\"}}, \"type\": \"scattermapbox\"}], \"scatterpolar\": [{\"marker\": {\"colorbar\": {\"outlinewidth\": 0, \"ticks\": \"\"}}, \"type\": \"scatterpolar\"}], \"scatterpolargl\": [{\"marker\": {\"colorbar\": {\"outlinewidth\": 0, \"ticks\": \"\"}}, \"type\": \"scatterpolargl\"}], \"scatterternary\": [{\"marker\": {\"colorbar\": {\"outlinewidth\": 0, \"ticks\": \"\"}}, \"type\": \"scatterternary\"}], \"surface\": [{\"colorbar\": {\"outlinewidth\": 0, \"ticks\": \"\"}, \"colorscale\": [[0.0, \"#0d0887\"], [0.1111111111111111, \"#46039f\"], [0.2222222222222222, \"#7201a8\"], [0.3333333333333333, \"#9c179e\"], [0.4444444444444444, \"#bd3786\"], [0.5555555555555556, \"#d8576b\"], [0.6666666666666666, \"#ed7953\"], [0.7777777777777778, \"#fb9f3a\"], [0.8888888888888888, \"#fdca26\"], [1.0, \"#f0f921\"]], \"type\": \"surface\"}], \"table\": [{\"cells\": {\"fill\": {\"color\": \"#EBF0F8\"}, \"line\": {\"color\": \"white\"}}, \"header\": {\"fill\": {\"color\": \"#C8D4E3\"}, \"line\": {\"color\": \"white\"}}, \"type\": \"table\"}]}, \"layout\": {\"annotationdefaults\": {\"arrowcolor\": \"#2a3f5f\", \"arrowhead\": 0, \"arrowwidth\": 1}, \"coloraxis\": {\"colorbar\": {\"outlinewidth\": 0, \"ticks\": \"\"}}, \"colorscale\": {\"diverging\": [[0, \"#8e0152\"], [0.1, \"#c51b7d\"], [0.2, \"#de77ae\"], [0.3, \"#f1b6da\"], [0.4, \"#fde0ef\"], [0.5, \"#f7f7f7\"], [0.6, \"#e6f5d0\"], [0.7, \"#b8e186\"], [0.8, \"#7fbc41\"], [0.9, \"#4d9221\"], [1, \"#276419\"]], \"sequential\": [[0.0, \"#0d0887\"], [0.1111111111111111, \"#46039f\"], [0.2222222222222222, \"#7201a8\"], [0.3333333333333333, \"#9c179e\"], [0.4444444444444444, \"#bd3786\"], [0.5555555555555556, \"#d8576b\"], [0.6666666666666666, \"#ed7953\"], [0.7777777777777778, \"#fb9f3a\"], [0.8888888888888888, \"#fdca26\"], [1.0, \"#f0f921\"]], \"sequentialminus\": [[0.0, \"#0d0887\"], [0.1111111111111111, \"#46039f\"], [0.2222222222222222, \"#7201a8\"], [0.3333333333333333, \"#9c179e\"], [0.4444444444444444, \"#bd3786\"], [0.5555555555555556, \"#d8576b\"], [0.6666666666666666, \"#ed7953\"], [0.7777777777777778, \"#fb9f3a\"], [0.8888888888888888, \"#fdca26\"], [1.0, \"#f0f921\"]]}, \"colorway\": [\"#636efa\", \"#EF553B\", \"#00cc96\", \"#ab63fa\", \"#FFA15A\", \"#19d3f3\", \"#FF6692\", \"#B6E880\", \"#FF97FF\", \"#FECB52\"], \"font\": {\"color\": \"#2a3f5f\"}, \"geo\": {\"bgcolor\": \"white\", \"lakecolor\": \"white\", \"landcolor\": \"#E5ECF6\", \"showlakes\": true, \"showland\": true, \"subunitcolor\": \"white\"}, \"hoverlabel\": {\"align\": \"left\"}, \"hovermode\": \"closest\", \"mapbox\": {\"style\": \"light\"}, \"paper_bgcolor\": \"white\", \"plot_bgcolor\": \"#E5ECF6\", \"polar\": {\"angularaxis\": {\"gridcolor\": \"white\", \"linecolor\": \"white\", \"ticks\": \"\"}, \"bgcolor\": \"#E5ECF6\", \"radialaxis\": {\"gridcolor\": \"white\", \"linecolor\": \"white\", \"ticks\": \"\"}}, \"scene\": {\"xaxis\": {\"backgroundcolor\": \"#E5ECF6\", \"gridcolor\": \"white\", \"gridwidth\": 2, \"linecolor\": \"white\", \"showbackground\": true, \"ticks\": \"\", \"zerolinecolor\": \"white\"}, \"yaxis\": {\"backgroundcolor\": \"#E5ECF6\", \"gridcolor\": \"white\", \"gridwidth\": 2, \"linecolor\": \"white\", \"showbackground\": true, \"ticks\": \"\", \"zerolinecolor\": \"white\"}, \"zaxis\": {\"backgroundcolor\": \"#E5ECF6\", \"gridcolor\": \"white\", \"gridwidth\": 2, \"linecolor\": \"white\", \"showbackground\": true, \"ticks\": \"\", \"zerolinecolor\": \"white\"}}, \"shapedefaults\": {\"line\": {\"color\": \"#2a3f5f\"}}, \"ternary\": {\"aaxis\": {\"gridcolor\": \"white\", \"linecolor\": \"white\", \"ticks\": \"\"}, \"baxis\": {\"gridcolor\": \"white\", \"linecolor\": \"white\", \"ticks\": \"\"}, \"bgcolor\": \"#E5ECF6\", \"caxis\": {\"gridcolor\": \"white\", \"linecolor\": \"white\", \"ticks\": \"\"}}, \"title\": {\"x\": 0.05}, \"xaxis\": {\"automargin\": true, \"gridcolor\": \"white\", \"linecolor\": \"white\", \"ticks\": \"\", \"title\": {\"standoff\": 15}, \"zerolinecolor\": \"white\", \"zerolinewidth\": 2}, \"yaxis\": {\"automargin\": true, \"gridcolor\": \"white\", \"linecolor\": \"white\", \"ticks\": \"\", \"title\": {\"standoff\": 15}, \"zerolinecolor\": \"white\", \"zerolinewidth\": 2}}}, \"title\": {\"text\": \"A Figure Displaying Itself\"}},\n",
              "                        {\"responsive\": true}\n",
              "                    ).then(function(){\n",
              "                            \n",
              "var gd = document.getElementById('60a2bbc4-9c50-41f7-b8c1-e4d3d4a53395');\n",
              "var x = new MutationObserver(function (mutations, observer) {{\n",
              "        var display = window.getComputedStyle(gd).display;\n",
              "        if (!display || display === 'none') {{\n",
              "            console.log([gd, 'removed!']);\n",
              "            Plotly.purge(gd);\n",
              "            observer.disconnect();\n",
              "        }}\n",
              "}});\n",
              "\n",
              "// Listen for the removal of the full notebook cells\n",
              "var notebookContainer = gd.closest('#notebook-container');\n",
              "if (notebookContainer) {{\n",
              "    x.observe(notebookContainer, {childList: true});\n",
              "}}\n",
              "\n",
              "// Listen for the clearing of the current output cell\n",
              "var outputEl = gd.closest('.output');\n",
              "if (outputEl) {{\n",
              "    x.observe(outputEl, {childList: true});\n",
              "}}\n",
              "\n",
              "                        })\n",
              "                };\n",
              "                });\n",
              "            </script>\n",
              "        </div>"
            ],
            "application/vnd.plotly.v1+json": {
              "data": [
                {
                  "y": [
                    [
                      0.40454876273653567,
                      0.3122998544395924,
                      0.2831513828238719
                    ]
                  ],
                  "type": "bar"
                }
              ],
              "config": {
                "plotlyServerURL": "https://plot.ly"
              },
              "layout": {
                "template": {
                  "layout": {
                    "shapedefaults": {
                      "line": {
                        "color": "#2a3f5f"
                      }
                    },
                    "polar": {
                      "radialaxis": {
                        "ticks": "",
                        "gridcolor": "white",
                        "linecolor": "white"
                      },
                      "bgcolor": "#E5ECF6",
                      "angularaxis": {
                        "ticks": "",
                        "gridcolor": "white",
                        "linecolor": "white"
                      }
                    },
                    "colorway": [
                      "#636efa",
                      "#EF553B",
                      "#00cc96",
                      "#ab63fa",
                      "#FFA15A",
                      "#19d3f3",
                      "#FF6692",
                      "#B6E880",
                      "#FF97FF",
                      "#FECB52"
                    ],
                    "xaxis": {
                      "automargin": true,
                      "title": {
                        "standoff": 15
                      },
                      "zerolinewidth": 2,
                      "ticks": "",
                      "zerolinecolor": "white",
                      "gridcolor": "white",
                      "linecolor": "white"
                    },
                    "colorscale": {
                      "diverging": [
                        [
                          0,
                          "#8e0152"
                        ],
                        [
                          0.1,
                          "#c51b7d"
                        ],
                        [
                          0.2,
                          "#de77ae"
                        ],
                        [
                          0.3,
                          "#f1b6da"
                        ],
                        [
                          0.4,
                          "#fde0ef"
                        ],
                        [
                          0.5,
                          "#f7f7f7"
                        ],
                        [
                          0.6,
                          "#e6f5d0"
                        ],
                        [
                          0.7,
                          "#b8e186"
                        ],
                        [
                          0.8,
                          "#7fbc41"
                        ],
                        [
                          0.9,
                          "#4d9221"
                        ],
                        [
                          1,
                          "#276419"
                        ]
                      ],
                      "sequential": [
                        [
                          0,
                          "#0d0887"
                        ],
                        [
                          0.1111111111111111,
                          "#46039f"
                        ],
                        [
                          0.2222222222222222,
                          "#7201a8"
                        ],
                        [
                          0.3333333333333333,
                          "#9c179e"
                        ],
                        [
                          0.4444444444444444,
                          "#bd3786"
                        ],
                        [
                          0.5555555555555556,
                          "#d8576b"
                        ],
                        [
                          0.6666666666666666,
                          "#ed7953"
                        ],
                        [
                          0.7777777777777778,
                          "#fb9f3a"
                        ],
                        [
                          0.8888888888888888,
                          "#fdca26"
                        ],
                        [
                          1,
                          "#f0f921"
                        ]
                      ],
                      "sequentialminus": [
                        [
                          0,
                          "#0d0887"
                        ],
                        [
                          0.1111111111111111,
                          "#46039f"
                        ],
                        [
                          0.2222222222222222,
                          "#7201a8"
                        ],
                        [
                          0.3333333333333333,
                          "#9c179e"
                        ],
                        [
                          0.4444444444444444,
                          "#bd3786"
                        ],
                        [
                          0.5555555555555556,
                          "#d8576b"
                        ],
                        [
                          0.6666666666666666,
                          "#ed7953"
                        ],
                        [
                          0.7777777777777778,
                          "#fb9f3a"
                        ],
                        [
                          0.8888888888888888,
                          "#fdca26"
                        ],
                        [
                          1,
                          "#f0f921"
                        ]
                      ]
                    },
                    "paper_bgcolor": "white",
                    "plot_bgcolor": "#E5ECF6",
                    "title": {
                      "x": 0.05
                    },
                    "scene": {
                      "zaxis": {
                        "backgroundcolor": "#E5ECF6",
                        "ticks": "",
                        "gridwidth": 2,
                        "showbackground": true,
                        "zerolinecolor": "white",
                        "gridcolor": "white",
                        "linecolor": "white"
                      },
                      "xaxis": {
                        "backgroundcolor": "#E5ECF6",
                        "ticks": "",
                        "gridwidth": 2,
                        "showbackground": true,
                        "zerolinecolor": "white",
                        "gridcolor": "white",
                        "linecolor": "white"
                      },
                      "yaxis": {
                        "backgroundcolor": "#E5ECF6",
                        "ticks": "",
                        "gridwidth": 2,
                        "showbackground": true,
                        "zerolinecolor": "white",
                        "gridcolor": "white",
                        "linecolor": "white"
                      }
                    },
                    "yaxis": {
                      "automargin": true,
                      "title": {
                        "standoff": 15
                      },
                      "zerolinewidth": 2,
                      "ticks": "",
                      "zerolinecolor": "white",
                      "gridcolor": "white",
                      "linecolor": "white"
                    },
                    "annotationdefaults": {
                      "arrowwidth": 1,
                      "arrowhead": 0,
                      "arrowcolor": "#2a3f5f"
                    },
                    "hoverlabel": {
                      "align": "left"
                    },
                    "ternary": {
                      "bgcolor": "#E5ECF6",
                      "baxis": {
                        "ticks": "",
                        "gridcolor": "white",
                        "linecolor": "white"
                      },
                      "caxis": {
                        "ticks": "",
                        "gridcolor": "white",
                        "linecolor": "white"
                      },
                      "aaxis": {
                        "ticks": "",
                        "gridcolor": "white",
                        "linecolor": "white"
                      }
                    },
                    "mapbox": {
                      "style": "light"
                    },
                    "hovermode": "closest",
                    "font": {
                      "color": "#2a3f5f"
                    },
                    "geo": {
                      "showland": true,
                      "landcolor": "#E5ECF6",
                      "showlakes": true,
                      "bgcolor": "white",
                      "subunitcolor": "white",
                      "lakecolor": "white"
                    },
                    "coloraxis": {
                      "colorbar": {
                        "outlinewidth": 0,
                        "ticks": ""
                      }
                    }
                  },
                  "data": {
                    "mesh3d": [
                      {
                        "colorbar": {
                          "outlinewidth": 0,
                          "ticks": ""
                        },
                        "type": "mesh3d"
                      }
                    ],
                    "scattercarpet": [
                      {
                        "marker": {
                          "colorbar": {
                            "outlinewidth": 0,
                            "ticks": ""
                          }
                        },
                        "type": "scattercarpet"
                      }
                    ],
                    "pie": [
                      {
                        "automargin": true,
                        "type": "pie"
                      }
                    ],
                    "surface": [
                      {
                        "colorbar": {
                          "outlinewidth": 0,
                          "ticks": ""
                        },
                        "type": "surface",
                        "colorscale": [
                          [
                            0,
                            "#0d0887"
                          ],
                          [
                            0.1111111111111111,
                            "#46039f"
                          ],
                          [
                            0.2222222222222222,
                            "#7201a8"
                          ],
                          [
                            0.3333333333333333,
                            "#9c179e"
                          ],
                          [
                            0.4444444444444444,
                            "#bd3786"
                          ],
                          [
                            0.5555555555555556,
                            "#d8576b"
                          ],
                          [
                            0.6666666666666666,
                            "#ed7953"
                          ],
                          [
                            0.7777777777777778,
                            "#fb9f3a"
                          ],
                          [
                            0.8888888888888888,
                            "#fdca26"
                          ],
                          [
                            1,
                            "#f0f921"
                          ]
                        ]
                      }
                    ],
                    "table": [
                      {
                        "header": {
                          "line": {
                            "color": "white"
                          },
                          "fill": {
                            "color": "#C8D4E3"
                          }
                        },
                        "cells": {
                          "line": {
                            "color": "white"
                          },
                          "fill": {
                            "color": "#EBF0F8"
                          }
                        },
                        "type": "table"
                      }
                    ],
                    "scatterpolargl": [
                      {
                        "marker": {
                          "colorbar": {
                            "outlinewidth": 0,
                            "ticks": ""
                          }
                        },
                        "type": "scatterpolargl"
                      }
                    ],
                    "contour": [
                      {
                        "colorbar": {
                          "outlinewidth": 0,
                          "ticks": ""
                        },
                        "type": "contour",
                        "colorscale": [
                          [
                            0,
                            "#0d0887"
                          ],
                          [
                            0.1111111111111111,
                            "#46039f"
                          ],
                          [
                            0.2222222222222222,
                            "#7201a8"
                          ],
                          [
                            0.3333333333333333,
                            "#9c179e"
                          ],
                          [
                            0.4444444444444444,
                            "#bd3786"
                          ],
                          [
                            0.5555555555555556,
                            "#d8576b"
                          ],
                          [
                            0.6666666666666666,
                            "#ed7953"
                          ],
                          [
                            0.7777777777777778,
                            "#fb9f3a"
                          ],
                          [
                            0.8888888888888888,
                            "#fdca26"
                          ],
                          [
                            1,
                            "#f0f921"
                          ]
                        ]
                      }
                    ],
                    "carpet": [
                      {
                        "type": "carpet",
                        "baxis": {
                          "minorgridcolor": "white",
                          "gridcolor": "white",
                          "linecolor": "white",
                          "endlinecolor": "#2a3f5f",
                          "startlinecolor": "#2a3f5f"
                        },
                        "aaxis": {
                          "minorgridcolor": "white",
                          "gridcolor": "white",
                          "linecolor": "white",
                          "endlinecolor": "#2a3f5f",
                          "startlinecolor": "#2a3f5f"
                        }
                      }
                    ],
                    "contourcarpet": [
                      {
                        "colorbar": {
                          "outlinewidth": 0,
                          "ticks": ""
                        },
                        "type": "contourcarpet"
                      }
                    ],
                    "heatmap": [
                      {
                        "colorbar": {
                          "outlinewidth": 0,
                          "ticks": ""
                        },
                        "type": "heatmap",
                        "colorscale": [
                          [
                            0,
                            "#0d0887"
                          ],
                          [
                            0.1111111111111111,
                            "#46039f"
                          ],
                          [
                            0.2222222222222222,
                            "#7201a8"
                          ],
                          [
                            0.3333333333333333,
                            "#9c179e"
                          ],
                          [
                            0.4444444444444444,
                            "#bd3786"
                          ],
                          [
                            0.5555555555555556,
                            "#d8576b"
                          ],
                          [
                            0.6666666666666666,
                            "#ed7953"
                          ],
                          [
                            0.7777777777777778,
                            "#fb9f3a"
                          ],
                          [
                            0.8888888888888888,
                            "#fdca26"
                          ],
                          [
                            1,
                            "#f0f921"
                          ]
                        ]
                      }
                    ],
                    "scattermapbox": [
                      {
                        "marker": {
                          "colorbar": {
                            "outlinewidth": 0,
                            "ticks": ""
                          }
                        },
                        "type": "scattermapbox"
                      }
                    ],
                    "scatter3d": [
                      {
                        "marker": {
                          "colorbar": {
                            "outlinewidth": 0,
                            "ticks": ""
                          }
                        },
                        "line": {
                          "colorbar": {
                            "outlinewidth": 0,
                            "ticks": ""
                          }
                        },
                        "type": "scatter3d"
                      }
                    ],
                    "scattergl": [
                      {
                        "marker": {
                          "colorbar": {
                            "outlinewidth": 0,
                            "ticks": ""
                          }
                        },
                        "type": "scattergl"
                      }
                    ],
                    "scatterternary": [
                      {
                        "marker": {
                          "colorbar": {
                            "outlinewidth": 0,
                            "ticks": ""
                          }
                        },
                        "type": "scatterternary"
                      }
                    ],
                    "histogram": [
                      {
                        "marker": {
                          "colorbar": {
                            "outlinewidth": 0,
                            "ticks": ""
                          }
                        },
                        "type": "histogram"
                      }
                    ],
                    "heatmapgl": [
                      {
                        "colorbar": {
                          "outlinewidth": 0,
                          "ticks": ""
                        },
                        "type": "heatmapgl",
                        "colorscale": [
                          [
                            0,
                            "#0d0887"
                          ],
                          [
                            0.1111111111111111,
                            "#46039f"
                          ],
                          [
                            0.2222222222222222,
                            "#7201a8"
                          ],
                          [
                            0.3333333333333333,
                            "#9c179e"
                          ],
                          [
                            0.4444444444444444,
                            "#bd3786"
                          ],
                          [
                            0.5555555555555556,
                            "#d8576b"
                          ],
                          [
                            0.6666666666666666,
                            "#ed7953"
                          ],
                          [
                            0.7777777777777778,
                            "#fb9f3a"
                          ],
                          [
                            0.8888888888888888,
                            "#fdca26"
                          ],
                          [
                            1,
                            "#f0f921"
                          ]
                        ]
                      }
                    ],
                    "scatterpolar": [
                      {
                        "marker": {
                          "colorbar": {
                            "outlinewidth": 0,
                            "ticks": ""
                          }
                        },
                        "type": "scatterpolar"
                      }
                    ],
                    "histogram2d": [
                      {
                        "colorbar": {
                          "outlinewidth": 0,
                          "ticks": ""
                        },
                        "type": "histogram2d",
                        "colorscale": [
                          [
                            0,
                            "#0d0887"
                          ],
                          [
                            0.1111111111111111,
                            "#46039f"
                          ],
                          [
                            0.2222222222222222,
                            "#7201a8"
                          ],
                          [
                            0.3333333333333333,
                            "#9c179e"
                          ],
                          [
                            0.4444444444444444,
                            "#bd3786"
                          ],
                          [
                            0.5555555555555556,
                            "#d8576b"
                          ],
                          [
                            0.6666666666666666,
                            "#ed7953"
                          ],
                          [
                            0.7777777777777778,
                            "#fb9f3a"
                          ],
                          [
                            0.8888888888888888,
                            "#fdca26"
                          ],
                          [
                            1,
                            "#f0f921"
                          ]
                        ]
                      }
                    ],
                    "scattergeo": [
                      {
                        "marker": {
                          "colorbar": {
                            "outlinewidth": 0,
                            "ticks": ""
                          }
                        },
                        "type": "scattergeo"
                      }
                    ],
                    "bar": [
                      {
                        "marker": {
                          "line": {
                            "color": "#E5ECF6",
                            "width": 0.5
                          }
                        },
                        "type": "bar",
                        "error_x": {
                          "color": "#2a3f5f"
                        },
                        "error_y": {
                          "color": "#2a3f5f"
                        }
                      }
                    ],
                    "choropleth": [
                      {
                        "colorbar": {
                          "outlinewidth": 0,
                          "ticks": ""
                        },
                        "type": "choropleth"
                      }
                    ],
                    "parcoords": [
                      {
                        "line": {
                          "colorbar": {
                            "outlinewidth": 0,
                            "ticks": ""
                          }
                        },
                        "type": "parcoords"
                      }
                    ],
                    "barpolar": [
                      {
                        "marker": {
                          "line": {
                            "color": "#E5ECF6",
                            "width": 0.5
                          }
                        },
                        "type": "barpolar"
                      }
                    ],
                    "histogram2dcontour": [
                      {
                        "colorbar": {
                          "outlinewidth": 0,
                          "ticks": ""
                        },
                        "type": "histogram2dcontour",
                        "colorscale": [
                          [
                            0,
                            "#0d0887"
                          ],
                          [
                            0.1111111111111111,
                            "#46039f"
                          ],
                          [
                            0.2222222222222222,
                            "#7201a8"
                          ],
                          [
                            0.3333333333333333,
                            "#9c179e"
                          ],
                          [
                            0.4444444444444444,
                            "#bd3786"
                          ],
                          [
                            0.5555555555555556,
                            "#d8576b"
                          ],
                          [
                            0.6666666666666666,
                            "#ed7953"
                          ],
                          [
                            0.7777777777777778,
                            "#fb9f3a"
                          ],
                          [
                            0.8888888888888888,
                            "#fdca26"
                          ],
                          [
                            1,
                            "#f0f921"
                          ]
                        ]
                      }
                    ],
                    "scatter": [
                      {
                        "marker": {
                          "colorbar": {
                            "outlinewidth": 0,
                            "ticks": ""
                          }
                        },
                        "type": "scatter"
                      }
                    ]
                  }
                },
                "title": {
                  "text": "A Figure Displaying Itself"
                }
              }
            }
          },
          "metadata": {
            "tags": []
          }
        }
      ]
    },
    {
      "cell_type": "markdown",
      "metadata": {
        "id": "VKoYdvnqeX4j",
        "colab_type": "text"
      },
      "source": [
        "#data_clean"
      ]
    },
    {
      "cell_type": "code",
      "metadata": {
        "id": "fjoPmMnrXD14",
        "colab_type": "code",
        "colab": {}
      },
      "source": [
        "# Applying the cleaning function to both test and training datasets\n",
        "train['text_clean'] = train['text'].apply(str).apply(lambda x: text_preprocessing(x))\n",
        "test['text_clean'] = test['text'].apply(str).apply(lambda x: text_preprocessing(x))"
      ],
      "execution_count": 0,
      "outputs": []
    },
    {
      "cell_type": "markdown",
      "metadata": {
        "id": "mMPSaX5aOG-F",
        "colab_type": "text"
      },
      "source": [
        "#data "
      ]
    },
    {
      "cell_type": "code",
      "metadata": {
        "id": "tjXsD_B8SQrp",
        "colab_type": "code",
        "colab": {}
      },
      "source": [
        "#  import and instantiate CountVectorizer (with the default parameters)\n",
        "from sklearn.feature_extraction.text import CountVectorizer\n",
        "vect = CountVectorizer()"
      ],
      "execution_count": 0,
      "outputs": []
    },
    {
      "cell_type": "code",
      "metadata": {
        "id": "4Z8wrI1ATbBc",
        "colab_type": "code",
        "colab": {}
      },
      "source": [
        "simple_train = [data['text'][1]]"
      ],
      "execution_count": 0,
      "outputs": []
    },
    {
      "cell_type": "code",
      "metadata": {
        "id": "3cKcU32JUnxc",
        "colab_type": "code",
        "colab": {}
      },
      "source": [
        "vect.fit(simple_train)"
      ],
      "execution_count": 0,
      "outputs": []
    },
    {
      "cell_type": "code",
      "metadata": {
        "id": "i3KPasHOUv00",
        "colab_type": "code",
        "colab": {}
      },
      "source": [
        "vect.get_feature_names()"
      ],
      "execution_count": 0,
      "outputs": []
    },
    {
      "cell_type": "code",
      "metadata": {
        "id": "5W8ylA3sVW7s",
        "colab_type": "code",
        "colab": {}
      },
      "source": [
        "simple_train_dtm = vect.transform(simple_train)\n",
        "simple_train_dtm"
      ],
      "execution_count": 0,
      "outputs": []
    },
    {
      "cell_type": "code",
      "metadata": {
        "id": "yv3h2KrxVykk",
        "colab_type": "code",
        "colab": {}
      },
      "source": [
        "simple_train_dtm.toarray()"
      ],
      "execution_count": 0,
      "outputs": []
    },
    {
      "cell_type": "code",
      "metadata": {
        "id": "k1GZ8Ty3V1px",
        "colab_type": "code",
        "colab": {}
      },
      "source": [
        "df_sample = pd.DataFrame(simple_train_dtm.toarray(), columns=vect.get_feature_names())"
      ],
      "execution_count": 0,
      "outputs": []
    },
    {
      "cell_type": "code",
      "metadata": {
        "id": "8tsV9tSBV6b1",
        "colab_type": "code",
        "colab": {}
      },
      "source": [
        "df_sample"
      ],
      "execution_count": 0,
      "outputs": []
    },
    {
      "cell_type": "markdown",
      "metadata": {
        "id": "6nQW0F_EZdpV",
        "colab_type": "text"
      },
      "source": [
        "#Bert\n"
      ]
    },
    {
      "cell_type": "markdown",
      "metadata": {
        "id": "IECE_whm1o-s",
        "colab_type": "text"
      },
      "source": [
        "**use both is most effcient**"
      ]
    },
    {
      "cell_type": "markdown",
      "metadata": {
        "id": "LGI1THw91GWv",
        "colab_type": "text"
      },
      "source": [
        "![alt text](data:image/png;base64,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))"
      ]
    },
    {
      "cell_type": "code",
      "metadata": {
        "id": "AHUYaGpFXNEV",
        "colab_type": "code",
        "colab": {}
      },
      "source": [
        "!pip install transformers\n",
        "!pip install tensorflow==2.1.0\n",
        "import torch\n",
        "from transformers import AutoModel, AutoTokenizer, BertTokenizer\n",
        "torch.set_grad_enabled(False)\n",
        "from IPython.display import clear_output\n",
        "\n",
        "\n",
        "# 取得此預訓練模型所使用的 tokenizer\n",
        "tokenizer = BertTokenizer.from_pretrained(PRETRAINED_MODEL_NAME)\n",
        "\n",
        "clear_output()\n",
        "print(\"PyTorch 版本：\", torch.__version__)"
      ],
      "execution_count": 0,
      "outputs": []
    },
    {
      "cell_type": "markdown",
      "metadata": {
        "pycharm": {
          "name": "#%% md\n"
        },
        "id": "Dm_NhWMhmfnX",
        "colab_type": "text"
      },
      "source": [
        "## Getting started with transformers\n",
        "\n",
        "For the rest of this notebook, we will use the [BERT (Devlin & al., 2018)](https://arxiv.org/abs/1810.04805) architecture, as it's the most simple and there are plenty of content about it\n",
        "over the internet, it will be easy to dig more over this architecture if you want to.\n",
        "\n",
        "The transformers library allows you to benefits from large, pretrained language models without requiring a huge and costly computational\n",
        "infrastructure. Most of the State-of-the-Art models are provided directly by their author and made available in the library \n",
        "in PyTorch and TensorFlow in a transparent and interchangeable way. "
      ]
    },
    {
      "cell_type": "code",
      "metadata": {
        "pycharm": {
          "is_executing": false,
          "name": "#%% code\n"
        },
        "scrolled": true,
        "id": "N45kKILImfnd",
        "colab_type": "code",
        "colab": {}
      },
      "source": [
        "!pip install transformers\n",
        "!pip install tensorflow==2.1.0"
      ],
      "execution_count": 0,
      "outputs": []
    },
    {
      "cell_type": "code",
      "metadata": {
        "pycharm": {
          "is_executing": false,
          "name": "#%% code\n"
        },
        "id": "GcKGEeMfmfoJ",
        "colab_type": "code",
        "colab": {}
      },
      "source": [
        "import torch\n",
        "from transformers import AutoModel, AutoTokenizer, BertTokenizer\n",
        "\n",
        "torch.set_grad_enabled(False)"
      ],
      "execution_count": 0,
      "outputs": []
    },
    {
      "cell_type": "code",
      "metadata": {
        "pycharm": {
          "is_executing": false,
          "name": "#%% code\n"
        },
        "id": "_1JopTLkmfod",
        "colab_type": "code",
        "colab": {}
      },
      "source": [
        "# Store the model we want to use\n",
        "MODEL_NAME = \"bert-base-cased\"\n",
        "\n",
        "# We need to create the model and tokenizer\n",
        "model = AutoModel.from_pretrained(MODEL_NAME)\n",
        "tokenizer = AutoTokenizer.from_pretrained(MODEL_NAME)"
      ],
      "execution_count": 0,
      "outputs": []
    },
    {
      "cell_type": "markdown",
      "metadata": {
        "pycharm": {
          "name": "#%% md\n"
        },
        "id": "xH1DrHHvmfow",
        "colab_type": "text"
      },
      "source": [
        "With only the above two lines of code, you're ready to use a BERT pre-trained model. \n",
        "The tokenizers will allow us to map a raw textual input to a sequence of integers representing our textual input\n",
        "in a way the model can manipulate."
      ]
    },
    {
      "cell_type": "code",
      "metadata": {
        "pycharm": {
          "is_executing": false,
          "name": "#%% code\n"
        },
        "id": "KEo6hlgCmfoz",
        "colab_type": "code",
        "colab": {}
      },
      "source": [
        "# Tokens comes from a process that splits the input into sub-entities with interesting linguistic properties. \n",
        "tokens = tokenizer.tokenize(\"This is an input example\")\n",
        "print(\"Tokens: {}\".format(tokens))\n",
        "\n",
        "# This is not sufficient for the model, as it requires integers as input, \n",
        "# not a problem, let's convert tokens to ids.\n",
        "tokens_ids = tokenizer.convert_tokens_to_ids(tokens)\n",
        "print(\"Tokens id: {}\".format(tokens_ids))\n",
        "\n",
        "# Add the required special tokens\n",
        "tokens_ids = tokenizer.build_inputs_with_special_tokens(tokens_ids)\n",
        "\n",
        "# We need to convert to a Deep Learning framework specific format, let's use PyTorch for now.\n",
        "tokens_pt = torch.tensor([tokens_ids])\n",
        "print(\"Tokens PyTorch: {}\".format(tokens_pt))\n",
        "\n",
        "# Now we're ready to go through BERT with out input\n",
        "outputs, pooled = model(tokens_pt)\n",
        "print(\"Token wise output: {}, Pooled output: {}\".format(outputs.shape, pooled.shape))"
      ],
      "execution_count": 0,
      "outputs": []
    },
    {
      "cell_type": "markdown",
      "metadata": {
        "pycharm": {
          "name": "#%% md\n"
        },
        "id": "CWbUWGs2mfpQ",
        "colab_type": "text"
      },
      "source": [
        "As you can see, BERT outputs two tensors:\n",
        " - One with the generated representation for every token in the input `(1, NB_TOKENS, REPRESENTATION_SIZE)`\n",
        " - One with an aggregated representation for the whole input `(1, REPRESENTATION_SIZE)`\n",
        " \n",
        "The first, token-based, representation can be leveraged if your task requires to keep the sequence representation and you\n",
        "want to operate at a token-level. This is particularly useful for Named Entity Recognition and Question-Answering.\n",
        "\n",
        "The second, aggregated, representation is especially useful if you need to extract the overall context of the sequence and don't\n",
        "require a fine-grained token-level. This is the case for Sentiment-Analysis of the sequence or Information Retrieval."
      ]
    },
    {
      "cell_type": "markdown",
      "metadata": {
        "pycharm": {
          "name": "#%% md\n"
        },
        "id": "ME_4jl9fmfpT",
        "colab_type": "text"
      },
      "source": [
        "The code you saw in the previous section introduced all the steps required to do simple model invocation.\n",
        "For more day-to-day usage, transformers provides you higher-level methods which will makes your NLP journey easier\n",
        "Let's improve our previous example"
      ]
    },
    {
      "cell_type": "code",
      "metadata": {
        "pycharm": {
          "is_executing": false,
          "name": "#%% code\n"
        },
        "id": "-H02LHfUmfpV",
        "colab_type": "code",
        "colab": {}
      },
      "source": [
        "# tokens = tokenizer.tokenize(\"This is an input example\")\n",
        "# tokens_ids = tokenizer.convert_tokens_to_ids(tokens)\n",
        "# tokens_pt = torch.tensor([tokens_ids])\n",
        "\n",
        "# This code can be factored into one-line as follow\n",
        "tokens_pt2 = tokenizer.encode_plus(\"This is an input example\", return_tensors=\"pt\")\n",
        "\n",
        "for key, value in tokens_pt2.items():\n",
        "    print(\"{}:\\n\\t{}\".format(key, value))\n",
        "\n",
        "outputs2, pooled2 = model(**tokens_pt2)\n",
        "print(\"Difference with previous code: ({}, {})\".format((outputs2 - outputs).sum(), (pooled2 - pooled).sum()))"
      ],
      "execution_count": 0,
      "outputs": []
    },
    {
      "cell_type": "markdown",
      "metadata": {
        "id": "ahRodr8Mmfpi",
        "colab_type": "text"
      },
      "source": [
        "As you can see above, the methode `encode_plus` provides a convenient way to generate all the required parameters\n",
        "that will go through the model. \n",
        "\n",
        "Moreover, you might have noticed it generated some additional tensors: \n",
        "\n",
        "- token_type_ids: This tensor will map every tokens to their corresponding segment (see below).\n",
        "- attention_mask: This tensor is used to \"mask\" padded values in a batch of sequence with different lengths (see below)."
      ]
    },
    {
      "cell_type": "code",
      "metadata": {
        "pycharm": {
          "is_executing": false
        },
        "id": "UywOL_7smfpm",
        "colab_type": "code",
        "colab": {}
      },
      "source": [
        "# Single segment input\n",
        "single_seg_input = tokenizer.encode_plus(\"This is a sample input\")\n",
        "\n",
        "# Multiple segment input\n",
        "multi_seg_input = tokenizer.encode_plus(\"This is segment A\", \"This is segment B\")\n",
        "\n",
        "print(\"Single segment token (str): {}\".format(tokenizer.convert_ids_to_tokens(single_seg_input['input_ids'])))\n",
        "print(\"Single segment token (int): {}\".format(single_seg_input['input_ids']))\n",
        "print(\"Single segment type       : {}\".format(single_seg_input['token_type_ids']))\n",
        "\n",
        "# Segments are concatened in the input to the model, with \n",
        "print()\n",
        "print(\"Multi segment token (str): {}\".format(tokenizer.convert_ids_to_tokens(multi_seg_input['input_ids'])))\n",
        "print(\"Multi segment token (int): {}\".format(multi_seg_input['input_ids']))\n",
        "print(\"Multi segment type       : {}\".format(multi_seg_input['token_type_ids']))"
      ],
      "execution_count": 0,
      "outputs": []
    },
    {
      "cell_type": "code",
      "metadata": {
        "pycharm": {
          "is_executing": false
        },
        "id": "Hx4G0eBXmfqG",
        "colab_type": "code",
        "colab": {}
      },
      "source": [
        "# Padding highlight\n",
        "tokens = tokenizer.batch_encode_plus(\n",
        "    [\"This is a sample\", \"This is another longer sample text\"], \n",
        "    pad_to_max_length=True  # First sentence will have some PADDED tokens to match second sequence length\n",
        ")\n",
        "\n",
        "for i in range(2):\n",
        "    print(\"Tokens (int)      : {}\".format(tokens['input_ids'][i]))\n",
        "    print(\"Tokens (str)      : {}\".format([tokenizer.convert_ids_to_tokens(s) for s in tokens['input_ids'][i]]))\n",
        "    print(\"Tokens (attn_mask): {}\".format(tokens['attention_mask'][i]))\n",
        "    print()"
      ],
      "execution_count": 0,
      "outputs": []
    }
  ]
}